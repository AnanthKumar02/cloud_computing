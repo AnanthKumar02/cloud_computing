{
 "cells": [
  {
   "cell_type": "code",
   "execution_count": 1,
   "id": "6fde3c59-281e-431e-b2d3-9eba0e0cd9d6",
   "metadata": {},
   "outputs": [
    {
     "name": "stdout",
     "output_type": "stream",
     "text": [
      "Collecting boto3\n",
      "  Downloading boto3-1.37.16-py3-none-any.whl.metadata (6.7 kB)\n",
      "Collecting botocore<1.38.0,>=1.37.16 (from boto3)\n",
      "  Downloading botocore-1.37.16-py3-none-any.whl.metadata (5.7 kB)\n",
      "Requirement already satisfied: jmespath<2.0.0,>=0.7.1 in c:\\users\\anant\\anaconda3\\lib\\site-packages (from boto3) (1.0.1)\n",
      "Collecting s3transfer<0.12.0,>=0.11.0 (from boto3)\n",
      "  Downloading s3transfer-0.11.4-py3-none-any.whl.metadata (1.7 kB)\n",
      "Requirement already satisfied: python-dateutil<3.0.0,>=2.1 in c:\\users\\anant\\anaconda3\\lib\\site-packages (from botocore<1.38.0,>=1.37.16->boto3) (2.9.0.post0)\n",
      "Requirement already satisfied: urllib3!=2.2.0,<3,>=1.25.4 in c:\\users\\anant\\anaconda3\\lib\\site-packages (from botocore<1.38.0,>=1.37.16->boto3) (2.2.3)\n",
      "Requirement already satisfied: six>=1.5 in c:\\users\\anant\\anaconda3\\lib\\site-packages (from python-dateutil<3.0.0,>=2.1->botocore<1.38.0,>=1.37.16->boto3) (1.16.0)\n",
      "Downloading boto3-1.37.16-py3-none-any.whl (139 kB)\n",
      "Downloading botocore-1.37.16-py3-none-any.whl (13.4 MB)\n",
      "   ---------------------------------------- 0.0/13.4 MB ? eta -:--:--\n",
      "   - -------------------------------------- 0.5/13.4 MB 2.8 MB/s eta 0:00:05\n",
      "   --- ------------------------------------ 1.0/13.4 MB 3.0 MB/s eta 0:00:05\n",
      "   ----- ---------------------------------- 1.8/13.4 MB 3.0 MB/s eta 0:00:04\n",
      "   ------ --------------------------------- 2.1/13.4 MB 2.7 MB/s eta 0:00:05\n",
      "   ------- -------------------------------- 2.6/13.4 MB 2.4 MB/s eta 0:00:05\n",
      "   -------- ------------------------------- 2.9/13.4 MB 2.4 MB/s eta 0:00:05\n",
      "   ---------- ----------------------------- 3.4/13.4 MB 2.4 MB/s eta 0:00:05\n",
      "   ----------- ---------------------------- 3.9/13.4 MB 2.3 MB/s eta 0:00:05\n",
      "   ------------- -------------------------- 4.5/13.4 MB 2.3 MB/s eta 0:00:04\n",
      "   -------------- ------------------------- 4.7/13.4 MB 2.2 MB/s eta 0:00:04\n",
      "   -------------- ------------------------- 5.0/13.4 MB 2.2 MB/s eta 0:00:04\n",
      "   ---------------- ----------------------- 5.5/13.4 MB 2.2 MB/s eta 0:00:04\n",
      "   ----------------- ---------------------- 5.8/13.4 MB 2.1 MB/s eta 0:00:04\n",
      "   ------------------ --------------------- 6.3/13.4 MB 2.1 MB/s eta 0:00:04\n",
      "   -------------------- ------------------- 6.8/13.4 MB 2.1 MB/s eta 0:00:04\n",
      "   --------------------- ------------------ 7.1/13.4 MB 2.1 MB/s eta 0:00:04\n",
      "   ---------------------- ----------------- 7.6/13.4 MB 2.1 MB/s eta 0:00:03\n",
      "   ------------------------ --------------- 8.4/13.4 MB 2.2 MB/s eta 0:00:03\n",
      "   ------------------------- -------------- 8.7/13.4 MB 2.1 MB/s eta 0:00:03\n",
      "   ---------------------------- ----------- 9.4/13.4 MB 2.2 MB/s eta 0:00:02\n",
      "   ------------------------------ --------- 10.2/13.4 MB 2.3 MB/s eta 0:00:02\n",
      "   -------------------------------- ------- 11.0/13.4 MB 2.3 MB/s eta 0:00:02\n",
      "   ----------------------------------- ---- 11.8/13.4 MB 2.4 MB/s eta 0:00:01\n",
      "   ------------------------------------- -- 12.6/13.4 MB 2.5 MB/s eta 0:00:01\n",
      "   ---------------------------------------- 13.4/13.4 MB 2.5 MB/s eta 0:00:00\n",
      "Downloading s3transfer-0.11.4-py3-none-any.whl (84 kB)\n",
      "Installing collected packages: botocore, s3transfer, boto3\n",
      "  Attempting uninstall: botocore\n",
      "    Found existing installation: botocore 1.34.69\n",
      "    Uninstalling botocore-1.34.69:\n",
      "      Successfully uninstalled botocore-1.34.69\n",
      "Successfully installed boto3-1.37.16 botocore-1.37.16 s3transfer-0.11.4\n",
      "Note: you may need to restart the kernel to use updated packages.\n"
     ]
    },
    {
     "name": "stderr",
     "output_type": "stream",
     "text": [
      "ERROR: pip's dependency resolver does not currently take into account all the packages that are installed. This behaviour is the source of the following dependency conflicts.\n",
      "aiobotocore 2.12.3 requires botocore<1.34.70,>=1.34.41, but you have botocore 1.37.16 which is incompatible.\n"
     ]
    }
   ],
   "source": [
    "#pip install boto3\n"
   ]
  },
  {
   "cell_type": "code",
   "execution_count": 3,
   "id": "b54c661b-d2f6-46af-9c70-dbe33f163dbc",
   "metadata": {},
   "outputs": [
    {
     "name": "stdout",
     "output_type": "stream",
     "text": [
      "Collecting awscli\n",
      "  Downloading awscli-1.38.16-py3-none-any.whl.metadata (11 kB)\n",
      "Requirement already satisfied: botocore==1.37.16 in c:\\users\\anant\\anaconda3\\lib\\site-packages (from awscli) (1.37.16)\n",
      "Collecting docutils<0.17,>=0.10 (from awscli)\n",
      "  Downloading docutils-0.16-py2.py3-none-any.whl.metadata (2.7 kB)\n",
      "Requirement already satisfied: s3transfer<0.12.0,>=0.11.0 in c:\\users\\anant\\anaconda3\\lib\\site-packages (from awscli) (0.11.4)\n",
      "Requirement already satisfied: PyYAML<6.1,>=3.10 in c:\\users\\anant\\anaconda3\\lib\\site-packages (from awscli) (6.0.1)\n",
      "Requirement already satisfied: colorama<0.4.7,>=0.2.5 in c:\\users\\anant\\anaconda3\\lib\\site-packages (from awscli) (0.4.6)\n",
      "Collecting rsa<4.8,>=3.1.2 (from awscli)\n",
      "  Downloading rsa-4.7.2-py3-none-any.whl.metadata (3.6 kB)\n",
      "Requirement already satisfied: jmespath<2.0.0,>=0.7.1 in c:\\users\\anant\\anaconda3\\lib\\site-packages (from botocore==1.37.16->awscli) (1.0.1)\n",
      "Requirement already satisfied: python-dateutil<3.0.0,>=2.1 in c:\\users\\anant\\anaconda3\\lib\\site-packages (from botocore==1.37.16->awscli) (2.9.0.post0)\n",
      "Requirement already satisfied: urllib3!=2.2.0,<3,>=1.25.4 in c:\\users\\anant\\anaconda3\\lib\\site-packages (from botocore==1.37.16->awscli) (2.2.3)\n",
      "Requirement already satisfied: pyasn1>=0.1.3 in c:\\users\\anant\\anaconda3\\lib\\site-packages (from rsa<4.8,>=3.1.2->awscli) (0.4.8)\n",
      "Requirement already satisfied: six>=1.5 in c:\\users\\anant\\anaconda3\\lib\\site-packages (from python-dateutil<3.0.0,>=2.1->botocore==1.37.16->awscli) (1.16.0)\n",
      "Downloading awscli-1.38.16-py3-none-any.whl (4.7 MB)\n",
      "   ---------------------------------------- 0.0/4.7 MB ? eta -:--:--\n",
      "   -------------------- ------------------- 2.4/4.7 MB 13.4 MB/s eta 0:00:01\n",
      "   ---------------------------------------- 4.7/4.7 MB 12.8 MB/s eta 0:00:00\n",
      "Downloading docutils-0.16-py2.py3-none-any.whl (548 kB)\n",
      "   ---------------------------------------- 0.0/548.2 kB ? eta -:--:--\n",
      "   ---------------------------------------- 548.2/548.2 kB 6.1 MB/s eta 0:00:00\n",
      "Downloading rsa-4.7.2-py3-none-any.whl (34 kB)\n",
      "Installing collected packages: rsa, docutils, awscli\n",
      "  Attempting uninstall: docutils\n",
      "    Found existing installation: docutils 0.21.2\n",
      "    Uninstalling docutils-0.21.2:\n",
      "      Successfully uninstalled docutils-0.21.2\n",
      "Successfully installed awscli-1.38.16 docutils-0.16 rsa-4.7.2\n",
      "Note: you may need to restart the kernel to use updated packages.\n"
     ]
    },
    {
     "name": "stderr",
     "output_type": "stream",
     "text": [
      "ERROR: pip's dependency resolver does not currently take into account all the packages that are installed. This behaviour is the source of the following dependency conflicts.\n",
      "sphinx 7.3.7 requires docutils<0.22,>=0.18.1, but you have docutils 0.16 which is incompatible.\n",
      "sphinx-argparse 0.5.2 requires docutils>=0.19, but you have docutils 0.16 which is incompatible.\n",
      "sphinx-rtd-theme 3.0.2 requires docutils<0.22,>0.18, but you have docutils 0.16 which is incompatible.\n"
     ]
    }
   ],
   "source": [
    "#pip install awscli"
   ]
  },
  {
   "cell_type": "code",
   "execution_count": null,
   "id": "400a4c14-dec0-48c8-a626-6e9ce9ab33f7",
   "metadata": {},
   "outputs": [],
   "source": [
    "!aws configure"
   ]
  },
  {
   "cell_type": "code",
   "execution_count": 1,
   "id": "cf70fa89-3562-469d-9a19-8d386a734c5e",
   "metadata": {},
   "outputs": [],
   "source": [
    "import boto3\n",
    "s3=boto3.client(\"s3\")"
   ]
  },
  {
   "cell_type": "code",
   "execution_count": null,
   "id": "5889e1e7-0ab3-4140-a859-035b07e3fa7e",
   "metadata": {},
   "outputs": [],
   "source": [
    "bucket_name=\"ananth_bucket\"\n",
    "s3.create_bucket(\n",
    "    Bucket=bucket_name,\n",
    "    CreateBucketConfiguration={\"LocationConstraint\":\"eu-north-1\"}\n",
    ")\n",
    "print(f\"Bucket '{bucket_name}' created successfully\")"
   ]
  },
  {
   "cell_type": "code",
   "execution_count": null,
   "id": "25f7a864-fe0f-4a0f-8563-64c07028cbe5",
   "metadata": {},
   "outputs": [],
   "source": [
    "response=s3.list_buckets()\n",
    "\n",
    "print(\"Existing Buckets:\")\n",
    "for bucket in response[\"Buckets\"]:\n",
    "    print(f\"-{bucket['Name']}\")"
   ]
  },
  {
   "cell_type": "code",
   "execution_count": null,
   "id": "79b77b5a-b929-41b4-9899-9d480a90e10e",
   "metadata": {},
   "outputs": [],
   "source": [
    "import boto3\n",
    "s3_client=boto3.client(\"s3\")\n",
    "s3_client.upload_file(\"test.txt\",\"mynlpmru\",\"dat/textfile1.txt\")\n",
    "print(\"upload successful\")"
   ]
  },
  {
   "cell_type": "code",
   "execution_count": null,
   "id": "53a089e1-a8f1-4036-bc43-82d0ffdfa414",
   "metadata": {},
   "outputs": [],
   "source": [
    "s3_client.download_file(\"mynlpmru\",\"data/textfile1.txt\")\n",
    "print(\"Download successful\")"
   ]
  },
  {
   "cell_type": "code",
   "execution_count": null,
   "id": "e95e9155-76a8-4348-a4e9-6f94e9cc95fa",
   "metadata": {},
   "outputs": [],
   "source": [
    "response=s3.list_objects_v2(Bucket=\"mynlpmru\")\n",
    "\n",
    "print(\"Files in bucket:\")\n",
    "if \"contents\" in response:\n",
    "    for obj in response[\"Contents\"]:\n",
    "        print(f\"-{obj['Key']}(Size: {obj['size']} bytes\")\n",
    "else:\n",
    "    print(\"Bucket is empty\")"
   ]
  },
  {
   "cell_type": "code",
   "execution_count": null,
   "id": "35ae6dde-0277-4fb5-a6a5-ddd60579aadc",
   "metadata": {},
   "outputs": [],
   "source": [
    "s3.delete_object(Bucket=\"mynlpmru\",key=\"data/textfile.txt\")\n",
    "print(\"File deleted successfully!\")"
   ]
  },
  {
   "cell_type": "code",
   "execution_count": null,
   "id": "1faf604b-e73a-482f-8418-c9e021f6c936",
   "metadata": {},
   "outputs": [],
   "source": [
    "s3.put_bucket_versioning(Bucket=\"mynlpmru\",VersioningConfiguration={\"Status\":\"Enabled\"})\n",
    "print(\"Bucket versioningn enabled.\")"
   ]
  },
  {
   "cell_type": "code",
   "execution_count": null,
   "id": "369bf4e8-3943-403b-bf30-6ddf262e4127",
   "metadata": {},
   "outputs": [],
   "source": [
    "copy_source={\"Bucket\":\"mynlpmru\",\n",
    "            \"key\":\"data/textfile.txt\"}\n",
    "s3.copy_object(CopySource=copy_source,Bucket=\"mynlpmru\",\n",
    "              key=\"data/copied_textfile1.txt\")\n",
    "print(\"file copied successfully\")"
   ]
  },
  {
   "cell_type": "code",
   "execution_count": null,
   "id": "3aed5379-c256-4d89-bdba-2bc0e6ec800f",
   "metadata": {},
   "outputs": [],
   "source": []
  }
 ],
 "metadata": {
  "kernelspec": {
   "display_name": "Python [conda env:base] *",
   "language": "python",
   "name": "conda-base-py"
  },
  "language_info": {
   "codemirror_mode": {
    "name": "ipython",
    "version": 3
   },
   "file_extension": ".py",
   "mimetype": "text/x-python",
   "name": "python",
   "nbconvert_exporter": "python",
   "pygments_lexer": "ipython3",
   "version": "3.12.7"
  }
 },
 "nbformat": 4,
 "nbformat_minor": 5
}
